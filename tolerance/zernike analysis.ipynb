{
 "cells": [
  {
   "cell_type": "code",
   "execution_count": 12,
   "id": "bright-ballot",
   "metadata": {},
   "outputs": [],
   "source": [
    "import numpy as np\n",
    "from sklearn.linear_model import LinearRegression\n",
    "import matplotlib.pyplot as plt\n",
    "from sklearn.svm import SVR\n",
    "import json\n",
    "from prettytable import PrettyTable\n",
    "from prettytable import MSWORD_FRIENDLY,MARKDOWN\n",
    "import os\n",
    "import pandas as pd"
   ]
  },
  {
   "cell_type": "code",
   "execution_count": 2,
   "id": "residential-composite",
   "metadata": {},
   "outputs": [],
   "source": [
    "dir_name = 'data/newZernikeData'\n",
    "dataDir = os.listdir(dir_name)"
   ]
  },
  {
   "cell_type": "code",
   "execution_count": 3,
   "id": "integrated-commission",
   "metadata": {},
   "outputs": [],
   "source": [
    "class DataSet:\n",
    "    def __init__(self):\n",
    "        self.data = []\n",
    "    def makePrettyTable(columns, labels):\n",
    "        table = PrettyTable()\n",
    "        for i in range(len(columns)):\n",
    "            table.add_column(labels[i], columns[i])\n",
    "        return table\n",
    "           "
   ]
  },
  {
   "cell_type": "code",
   "execution_count": 4,
   "id": "arabic-cargo",
   "metadata": {},
   "outputs": [],
   "source": [
    "blankItem = {\n",
    "    'th1': 0.2,\n",
    "    'th2': 0.2,\n",
    "    'th3': 1.2,\n",
    "    'tiltX1': 0,\n",
    "    'tiltY1': 0,\n",
    "    'tiltX2': 0,\n",
    "    'tiltY2': 0,\n",
    "    'tiltX3': 0,\n",
    "    'tiltY3': 0,\n",
    "    'dcx1': 0,\n",
    "    'dcy1': 0,\n",
    "    'dcx2': 0,\n",
    "    'dcy2': 0,\n",
    "    'dcx3': 0,\n",
    "    'dcy3': 0,\n",
    "    'foc_surf': 0,\n",
    "    'min_MTF': 'undefined',\n",
    "    'max_RMS': 'undefined',\n",
    "    'zernikes': 'undefined'\n",
    "}"
   ]
  },
  {
   "cell_type": "code",
   "execution_count": 5,
   "id": "active-uganda",
   "metadata": {},
   "outputs": [],
   "source": [
    "paramNames = ['th1', 'th2', 'th3', 'tiltX1', 'tiltY1', 'tiltX2', 'tiltY2', 'tiltX3', 'tiltY3', 'dcx1', 'dcy1', 'dcx2', 'dcy2', 'dcx3', 'dcy3']"
   ]
  },
  {
   "cell_type": "code",
   "execution_count": 6,
   "id": "selective-continuity",
   "metadata": {},
   "outputs": [],
   "source": [
    "zernNames =  ['tilt_hor', 'tilt_vert', 'defocus', 'astigmatism_obl', 'astigmatism_vert', 'coma_vert', 'coma_hor']"
   ]
  },
  {
   "cell_type": "code",
   "execution_count": null,
   "id": "welcome-shape",
   "metadata": {},
   "outputs": [],
   "source": []
  },
  {
   "cell_type": "code",
   "execution_count": 7,
   "id": "floral-falls",
   "metadata": {},
   "outputs": [],
   "source": [
    "class ZernikeAnalysis(DataSet):\n",
    "   \n",
    "    def addData(self, fileName):\n",
    "        with open(fileName, \"r\") as read_file:\n",
    "            newData = json.load(read_file)\n",
    "            newFormData = []\n",
    "            for el in newData:\n",
    "                if (el['zernikes'] != 'undefined'):\n",
    "                    newItem = blankItem.copy()\n",
    "                    keys = el.keys()\n",
    "                    for key in keys:\n",
    "                        newItem[key] = el[key]\n",
    "                    newFormData.append(newItem)\n",
    "            self.data = self.data + newFormData\n",
    "            #self.x = [[float(el['th1']),float(el['th2']), float(el['th3'])] for el in self.data]\n",
    "    def addDataDir(self, dir_name):\n",
    "        dataDir = os.listdir(dir_name)\n",
    "        for file in dataDir:\n",
    "            self.addData(dir_name+ '/'+file)\n",
    "    def getByChangedColumns(self, changedColumns):\n",
    "        filtered = []\n",
    "        allValues = []\n",
    "        for item in self.data:\n",
    "            correct = True\n",
    "            for col in paramNames:\n",
    "                if (col not in changedColumns) and (item[col] != blankItem[col] ):\n",
    "                    correct = False\n",
    "            if correct:\n",
    "                vals = [item[col] for col in changedColumns]\n",
    "                #print(vals)\n",
    "                if vals not in allValues:\n",
    "                    filtered.append(item)\n",
    "                    allValues.append(vals)\n",
    "        #print(allValues)\n",
    "        return filtered"
   ]
  },
  {
   "cell_type": "code",
   "execution_count": 8,
   "id": "least-sydney",
   "metadata": {},
   "outputs": [],
   "source": [
    "zern = ZernikeAnalysis()"
   ]
  },
  {
   "cell_type": "code",
   "execution_count": 9,
   "id": "trying-continuity",
   "metadata": {},
   "outputs": [],
   "source": [
    "zern.addDataDir('data/newZernikeData')"
   ]
  },
  {
   "cell_type": "code",
   "execution_count": 13,
   "id": "ranging-executive",
   "metadata": {},
   "outputs": [
    {
     "ename": "ValueError",
     "evalue": "Invalid file path or buffer object type: <class 'list'>",
     "output_type": "error",
     "traceback": [
      "\u001b[0;31m---------------------------------------------------------------------------\u001b[0m",
      "\u001b[0;31mValueError\u001b[0m                                Traceback (most recent call last)",
      "\u001b[0;32m<ipython-input-13-75ba4afc9a31>\u001b[0m in \u001b[0;36m<module>\u001b[0;34m\u001b[0m\n\u001b[0;32m----> 1\u001b[0;31m \u001b[0mpd\u001b[0m\u001b[0;34m.\u001b[0m\u001b[0mread_json\u001b[0m\u001b[0;34m(\u001b[0m\u001b[0mzern\u001b[0m\u001b[0;34m.\u001b[0m\u001b[0mdata\u001b[0m\u001b[0;34m)\u001b[0m\u001b[0;34m\u001b[0m\u001b[0;34m\u001b[0m\u001b[0m\n\u001b[0m",
      "\u001b[0;32m/usr/local/lib/python3.9/site-packages/pandas/util/_decorators.py\u001b[0m in \u001b[0;36mwrapper\u001b[0;34m(*args, **kwargs)\u001b[0m\n\u001b[1;32m    197\u001b[0m                 \u001b[0;32melse\u001b[0m\u001b[0;34m:\u001b[0m\u001b[0;34m\u001b[0m\u001b[0;34m\u001b[0m\u001b[0m\n\u001b[1;32m    198\u001b[0m                     \u001b[0mkwargs\u001b[0m\u001b[0;34m[\u001b[0m\u001b[0mnew_arg_name\u001b[0m\u001b[0;34m]\u001b[0m \u001b[0;34m=\u001b[0m \u001b[0mnew_arg_value\u001b[0m\u001b[0;34m\u001b[0m\u001b[0;34m\u001b[0m\u001b[0m\n\u001b[0;32m--> 199\u001b[0;31m             \u001b[0;32mreturn\u001b[0m \u001b[0mfunc\u001b[0m\u001b[0;34m(\u001b[0m\u001b[0;34m*\u001b[0m\u001b[0margs\u001b[0m\u001b[0;34m,\u001b[0m \u001b[0;34m**\u001b[0m\u001b[0mkwargs\u001b[0m\u001b[0;34m)\u001b[0m\u001b[0;34m\u001b[0m\u001b[0;34m\u001b[0m\u001b[0m\n\u001b[0m\u001b[1;32m    200\u001b[0m \u001b[0;34m\u001b[0m\u001b[0m\n\u001b[1;32m    201\u001b[0m         \u001b[0;32mreturn\u001b[0m \u001b[0mcast\u001b[0m\u001b[0;34m(\u001b[0m\u001b[0mF\u001b[0m\u001b[0;34m,\u001b[0m \u001b[0mwrapper\u001b[0m\u001b[0;34m)\u001b[0m\u001b[0;34m\u001b[0m\u001b[0;34m\u001b[0m\u001b[0m\n",
      "\u001b[0;32m/usr/local/lib/python3.9/site-packages/pandas/util/_decorators.py\u001b[0m in \u001b[0;36mwrapper\u001b[0;34m(*args, **kwargs)\u001b[0m\n\u001b[1;32m    297\u001b[0m                 )\n\u001b[1;32m    298\u001b[0m                 \u001b[0mwarnings\u001b[0m\u001b[0;34m.\u001b[0m\u001b[0mwarn\u001b[0m\u001b[0;34m(\u001b[0m\u001b[0mmsg\u001b[0m\u001b[0;34m,\u001b[0m \u001b[0mFutureWarning\u001b[0m\u001b[0;34m,\u001b[0m \u001b[0mstacklevel\u001b[0m\u001b[0;34m=\u001b[0m\u001b[0mstacklevel\u001b[0m\u001b[0;34m)\u001b[0m\u001b[0;34m\u001b[0m\u001b[0;34m\u001b[0m\u001b[0m\n\u001b[0;32m--> 299\u001b[0;31m             \u001b[0;32mreturn\u001b[0m \u001b[0mfunc\u001b[0m\u001b[0;34m(\u001b[0m\u001b[0;34m*\u001b[0m\u001b[0margs\u001b[0m\u001b[0;34m,\u001b[0m \u001b[0;34m**\u001b[0m\u001b[0mkwargs\u001b[0m\u001b[0;34m)\u001b[0m\u001b[0;34m\u001b[0m\u001b[0;34m\u001b[0m\u001b[0m\n\u001b[0m\u001b[1;32m    300\u001b[0m \u001b[0;34m\u001b[0m\u001b[0m\n\u001b[1;32m    301\u001b[0m         \u001b[0;32mreturn\u001b[0m \u001b[0mwrapper\u001b[0m\u001b[0;34m\u001b[0m\u001b[0;34m\u001b[0m\u001b[0m\n",
      "\u001b[0;32m/usr/local/lib/python3.9/site-packages/pandas/io/json/_json.py\u001b[0m in \u001b[0;36mread_json\u001b[0;34m(path_or_buf, orient, typ, dtype, convert_axes, convert_dates, keep_default_dates, numpy, precise_float, date_unit, encoding, lines, chunksize, compression, nrows, storage_options)\u001b[0m\n\u001b[1;32m    538\u001b[0m         \u001b[0mconvert_axes\u001b[0m \u001b[0;34m=\u001b[0m \u001b[0;32mTrue\u001b[0m\u001b[0;34m\u001b[0m\u001b[0;34m\u001b[0m\u001b[0m\n\u001b[1;32m    539\u001b[0m \u001b[0;34m\u001b[0m\u001b[0m\n\u001b[0;32m--> 540\u001b[0;31m     json_reader = JsonReader(\n\u001b[0m\u001b[1;32m    541\u001b[0m         \u001b[0mpath_or_buf\u001b[0m\u001b[0;34m,\u001b[0m\u001b[0;34m\u001b[0m\u001b[0;34m\u001b[0m\u001b[0m\n\u001b[1;32m    542\u001b[0m         \u001b[0morient\u001b[0m\u001b[0;34m=\u001b[0m\u001b[0morient\u001b[0m\u001b[0;34m,\u001b[0m\u001b[0;34m\u001b[0m\u001b[0;34m\u001b[0m\u001b[0m\n",
      "\u001b[0;32m/usr/local/lib/python3.9/site-packages/pandas/io/json/_json.py\u001b[0m in \u001b[0;36m__init__\u001b[0;34m(self, filepath_or_buffer, orient, typ, dtype, convert_axes, convert_dates, keep_default_dates, numpy, precise_float, date_unit, encoding, lines, chunksize, compression, nrows, storage_options)\u001b[0m\n\u001b[1;32m    620\u001b[0m                 \u001b[0;32mraise\u001b[0m \u001b[0mValueError\u001b[0m\u001b[0;34m(\u001b[0m\u001b[0;34m\"nrows can only be passed if lines=True\"\u001b[0m\u001b[0;34m)\u001b[0m\u001b[0;34m\u001b[0m\u001b[0;34m\u001b[0m\u001b[0m\n\u001b[1;32m    621\u001b[0m \u001b[0;34m\u001b[0m\u001b[0m\n\u001b[0;32m--> 622\u001b[0;31m         \u001b[0mdata\u001b[0m \u001b[0;34m=\u001b[0m \u001b[0mself\u001b[0m\u001b[0;34m.\u001b[0m\u001b[0m_get_data_from_filepath\u001b[0m\u001b[0;34m(\u001b[0m\u001b[0mfilepath_or_buffer\u001b[0m\u001b[0;34m)\u001b[0m\u001b[0;34m\u001b[0m\u001b[0;34m\u001b[0m\u001b[0m\n\u001b[0m\u001b[1;32m    623\u001b[0m         \u001b[0mself\u001b[0m\u001b[0;34m.\u001b[0m\u001b[0mdata\u001b[0m \u001b[0;34m=\u001b[0m \u001b[0mself\u001b[0m\u001b[0;34m.\u001b[0m\u001b[0m_preprocess_data\u001b[0m\u001b[0;34m(\u001b[0m\u001b[0mdata\u001b[0m\u001b[0;34m)\u001b[0m\u001b[0;34m\u001b[0m\u001b[0;34m\u001b[0m\u001b[0m\n\u001b[1;32m    624\u001b[0m \u001b[0;34m\u001b[0m\u001b[0m\n",
      "\u001b[0;32m/usr/local/lib/python3.9/site-packages/pandas/io/json/_json.py\u001b[0m in \u001b[0;36m_get_data_from_filepath\u001b[0;34m(self, filepath_or_buffer)\u001b[0m\n\u001b[1;32m    657\u001b[0m             \u001b[0;32mor\u001b[0m \u001b[0mfile_exists\u001b[0m\u001b[0;34m(\u001b[0m\u001b[0mfilepath_or_buffer\u001b[0m\u001b[0;34m)\u001b[0m\u001b[0;34m\u001b[0m\u001b[0;34m\u001b[0m\u001b[0m\n\u001b[1;32m    658\u001b[0m         ):\n\u001b[0;32m--> 659\u001b[0;31m             self.handles = get_handle(\n\u001b[0m\u001b[1;32m    660\u001b[0m                 \u001b[0mfilepath_or_buffer\u001b[0m\u001b[0;34m,\u001b[0m\u001b[0;34m\u001b[0m\u001b[0;34m\u001b[0m\u001b[0m\n\u001b[1;32m    661\u001b[0m                 \u001b[0;34m\"r\"\u001b[0m\u001b[0;34m,\u001b[0m\u001b[0;34m\u001b[0m\u001b[0;34m\u001b[0m\u001b[0m\n",
      "\u001b[0;32m/usr/local/lib/python3.9/site-packages/pandas/io/common.py\u001b[0m in \u001b[0;36mget_handle\u001b[0;34m(path_or_buf, mode, encoding, compression, memory_map, is_text, errors, storage_options)\u001b[0m\n\u001b[1;32m    556\u001b[0m \u001b[0;34m\u001b[0m\u001b[0m\n\u001b[1;32m    557\u001b[0m     \u001b[0;31m# open URLs\u001b[0m\u001b[0;34m\u001b[0m\u001b[0;34m\u001b[0m\u001b[0;34m\u001b[0m\u001b[0m\n\u001b[0;32m--> 558\u001b[0;31m     ioargs = _get_filepath_or_buffer(\n\u001b[0m\u001b[1;32m    559\u001b[0m         \u001b[0mpath_or_buf\u001b[0m\u001b[0;34m,\u001b[0m\u001b[0;34m\u001b[0m\u001b[0;34m\u001b[0m\u001b[0m\n\u001b[1;32m    560\u001b[0m         \u001b[0mencoding\u001b[0m\u001b[0;34m=\u001b[0m\u001b[0mencoding\u001b[0m\u001b[0;34m,\u001b[0m\u001b[0;34m\u001b[0m\u001b[0;34m\u001b[0m\u001b[0m\n",
      "\u001b[0;32m/usr/local/lib/python3.9/site-packages/pandas/io/common.py\u001b[0m in \u001b[0;36m_get_filepath_or_buffer\u001b[0;34m(filepath_or_buffer, encoding, compression, mode, storage_options)\u001b[0m\n\u001b[1;32m    369\u001b[0m     \u001b[0;32mif\u001b[0m \u001b[0;32mnot\u001b[0m \u001b[0mis_file_like\u001b[0m\u001b[0;34m(\u001b[0m\u001b[0mfilepath_or_buffer\u001b[0m\u001b[0;34m)\u001b[0m\u001b[0;34m:\u001b[0m\u001b[0;34m\u001b[0m\u001b[0;34m\u001b[0m\u001b[0m\n\u001b[1;32m    370\u001b[0m         \u001b[0mmsg\u001b[0m \u001b[0;34m=\u001b[0m \u001b[0;34mf\"Invalid file path or buffer object type: {type(filepath_or_buffer)}\"\u001b[0m\u001b[0;34m\u001b[0m\u001b[0;34m\u001b[0m\u001b[0m\n\u001b[0;32m--> 371\u001b[0;31m         \u001b[0;32mraise\u001b[0m \u001b[0mValueError\u001b[0m\u001b[0;34m(\u001b[0m\u001b[0mmsg\u001b[0m\u001b[0;34m)\u001b[0m\u001b[0;34m\u001b[0m\u001b[0;34m\u001b[0m\u001b[0m\n\u001b[0m\u001b[1;32m    372\u001b[0m \u001b[0;34m\u001b[0m\u001b[0m\n\u001b[1;32m    373\u001b[0m     return IOArgs(\n",
      "\u001b[0;31mValueError\u001b[0m: Invalid file path or buffer object type: <class 'list'>"
     ]
    }
   ],
   "source": [
    "\n",
    "with open(fileName, \"r\") as read_file:\n",
    "            newData = json.load(read_file)"
   ]
  },
  {
   "cell_type": "code",
   "execution_count": 124,
   "id": "recorded-trinidad",
   "metadata": {},
   "outputs": [
    {
     "name": "stdout",
     "output_type": "stream",
     "text": [
      "[[]]\n"
     ]
    }
   ],
   "source": [
    "blanks = zern.getByChangedColumns([])"
   ]
  },
  {
   "cell_type": "code",
   "execution_count": 107,
   "id": "intellectual-prairie",
   "metadata": {},
   "outputs": [
    {
     "data": {
      "text/plain": [
       "list"
      ]
     },
     "execution_count": 107,
     "metadata": {},
     "output_type": "execute_result"
    }
   ],
   "source": []
  },
  {
   "cell_type": "code",
   "execution_count": 41,
   "id": "wound-cassette",
   "metadata": {},
   "outputs": [],
   "source": [
    "only_th1 = zern.getByChangedColumns(['th1'])"
   ]
  },
  {
   "cell_type": "code",
   "execution_count": 127,
   "id": "beginning-still",
   "metadata": {},
   "outputs": [
    {
     "data": {
      "text/plain": [
       "8"
      ]
     },
     "execution_count": 127,
     "metadata": {},
     "output_type": "execute_result"
    }
   ],
   "source": [
    "len(only_dcX1)"
   ]
  },
  {
   "cell_type": "code",
   "execution_count": 29,
   "id": "extensive-genealogy",
   "metadata": {},
   "outputs": [],
   "source": [
    "only_tiltX1 = zern.getByChangedColumns(['tiltX1'])"
   ]
  },
  {
   "cell_type": "code",
   "execution_count": 42,
   "id": "operational-hopkins",
   "metadata": {},
   "outputs": [],
   "source": [
    "only_th1_tiltX1 = zern.getByChangedColumns(['th1', 'tiltX1'])"
   ]
  },
  {
   "cell_type": "code",
   "execution_count": 43,
   "id": "postal-bathroom",
   "metadata": {},
   "outputs": [
    {
     "data": {
      "text/plain": [
       "{'wavelength': 0.4,\n",
       " 'fieldX': 0.0,\n",
       " 'fieldY': 0.0,\n",
       " 'tilt_hor': 1.5031015267238844e-18,\n",
       " 'tilt_vert': -8.204828942400348e-18,\n",
       " 'defocus': -0.0005748071197096173,\n",
       " 'astigmatism_obl': 1.818392416139908e-18,\n",
       " 'astigmatism_vert': -6.798923370122721e-18,\n",
       " 'coma_vert': -6.238182489357192e-18,\n",
       " 'coma_hor': -2.1111256709592762e-18}"
      ]
     },
     "execution_count": 43,
     "metadata": {},
     "output_type": "execute_result"
    }
   ],
   "source": [
    "only_th1_tiltX1[0]['zernikes'][0]"
   ]
  },
  {
   "cell_type": "code",
   "execution_count": 44,
   "id": "visible-complexity",
   "metadata": {},
   "outputs": [],
   "source": [
    "def checkLinearity(ars, a12, cols):\n",
    "    z_all = []\n",
    "    wls = len(a12[0]['zernikes'])\n",
    "    #print(len(ars))\n",
    "    for item in a12:\n",
    "        items = []\n",
    "        hasData = True\n",
    "#         it1 = list(filter(lambda x: x == item[cols[0]], a1))\n",
    "        for i in range(len(ars)):\n",
    "            it_ = list(filter(lambda x: x[cols[i]] == item[cols[i]], ars[i]))\n",
    "            if len(it_) == 0:\n",
    "                hasData = False\n",
    "            else:\n",
    "                it = it_[0]\n",
    "                items.append(it)\n",
    "        #print('contr items', items)\n",
    "        #return items, item\n",
    "        if hasData:\n",
    "            zs = [it['zernikes'] for it in items]\n",
    "            z_superpos = []\n",
    "            z_quality = []\n",
    "            for w_zern_ind in range(wls):\n",
    "                z_superpos_el = {}\n",
    "                z_quality_el = {}\n",
    "                for z in zernNames:\n",
    "                    zernike_item_ar = [zern_data[w_zern_ind][z] for zern_data in zs]\n",
    "                    z_superpos_el[z] = sum(zernike_item_ar)\n",
    "                    z_quality_el[z]= 2*np.abs(z_superpos_el[z] - item['zernikes'][w_zern_ind][z])/np.abs(z_superpos_el[z] + item['zernikes'][w_zern_ind][z])\n",
    "                #return z_superpos_el\n",
    "                z_superpos.append(z_superpos_el)\n",
    "                z_quality.append(z_quality_el)\n",
    "#                     #print(z_all)\n",
    "#                     if (len(z_all)> 0):\n",
    "#                         print(w_zern_ind, z, z_all[0]['z_superpos'][0]['tilt_vert'] )\n",
    "#                     #print(z, zernike_item_ar, sum(zernike_item_ar))\n",
    "#                 #return z_superpos[w_zern_ind]\n",
    "            z_all.append({\n",
    "                'isolated': items.copy(),\n",
    "                'zs_isol': zs.copy(),\n",
    "                'z_superpos':z_superpos.copy(),\n",
    "                'z_real': item['zernikes'],\n",
    "                'z_quality': z_quality.copy()\n",
    "            })\n",
    "            #return z_all\n",
    "    return z_all"
   ]
  },
  {
   "cell_type": "code",
   "execution_count": 45,
   "id": "lightweight-lithuania",
   "metadata": {
    "scrolled": false
   },
   "outputs": [
    {
     "name": "stderr",
     "output_type": "stream",
     "text": [
      "<ipython-input-44-3c41c0471788>:28: RuntimeWarning: invalid value encountered in double_scalars\n",
      "  z_quality_el[z]= 2*np.abs(z_superpos_el[z] - item['zernikes'][w_zern_ind][z])/np.abs(z_superpos_el[z] + item['zernikes'][w_zern_ind][z])\n",
      "<ipython-input-44-3c41c0471788>:28: RuntimeWarning: divide by zero encountered in double_scalars\n",
      "  z_quality_el[z]= 2*np.abs(z_superpos_el[z] - item['zernikes'][w_zern_ind][z])/np.abs(z_superpos_el[z] + item['zernikes'][w_zern_ind][z])\n"
     ]
    }
   ],
   "source": [
    "res = checkLinearity([only_th1, only_tiltX1], only_th1_tiltX1, ['th1', 'tiltX1'])"
   ]
  },
  {
   "cell_type": "code",
   "execution_count": 513,
   "id": "affected-metabolism",
   "metadata": {},
   "outputs": [
    {
     "data": {
      "text/plain": [
       "2"
      ]
     },
     "execution_count": 513,
     "metadata": {},
     "output_type": "execute_result"
    }
   ],
   "source": [
    "res[0]['zs_isol'][1]"
   ]
  },
  {
   "cell_type": "code",
   "execution_count": 23,
   "id": "primary-treasure",
   "metadata": {},
   "outputs": [
    {
     "data": {
      "text/plain": [
       "7"
      ]
     },
     "execution_count": 23,
     "metadata": {},
     "output_type": "execute_result"
    }
   ],
   "source": [
    "len(zernNames)"
   ]
  },
  {
   "cell_type": "code",
   "execution_count": 56,
   "id": "failing-relative",
   "metadata": {},
   "outputs": [
    {
     "data": {
      "text/plain": [
       "<matplotlib.legend.Legend at 0x11b89e340>"
      ]
     },
     "execution_count": 56,
     "metadata": {},
     "output_type": "execute_result"
    },
    {
     "data": {
      "image/png": "[encoded data removed]",
      "text/plain": [
       "<Figure size 720x720 with 1 Axes>"
      ]
     },
     "metadata": {
      "needs_background": "light"
     },
     "output_type": "display_data"
    }
   ],
   "source": [
    "key = zernNames[6]\n",
    "y1 = [res[i]['z_real'][2][key] for i in range(len(res))]\n",
    "y2 = [res[i]['z_superpos'][2][key] for i in range(len(res))]\n",
    "y3 = [res[i]['zs_isol'][0][2][key] for i in range(len(res))]\n",
    "y4 = [res[i]['zs_isol'][1][2][key] for i in range(len(res))]\n",
    "x = [i for i in range(len(res))]\n",
    "f = plt.figure()\n",
    "f.set_figwidth(10)\n",
    "f.set_figheight(10)\n",
    "plt.title('changing dcY1 and tiltX1, error of '+ str(key))\n",
    "plt.plot(x, y1,  c='r', label='real result')\n",
    "plt.plot(x, y2, c='g', label = 'superpos')\n",
    "plt.plot(x, y3, '*', c='b', label = 'isol1')\n",
    "plt.plot(x, y4, 'o', c='m', label='isol2')\n",
    "plt.legend()"
   ]
  },
  {
   "cell_type": "code",
   "execution_count": null,
   "id": "extraordinary-spine",
   "metadata": {},
   "outputs": [],
   "source": []
  },
  {
   "cell_type": "code",
   "execution_count": 483,
   "id": "israeli-murray",
   "metadata": {},
   "outputs": [
    {
     "data": {
      "text/plain": [
       "{'wavelength': 0.4,\n",
       " 'fieldX': 0.0,\n",
       " 'fieldY': 0.0,\n",
       " 'tilt_hor': -0.4009250217333581,\n",
       " 'tilt_vert': 9.71445146547012e-17,\n",
       " 'defocus': -0.008312957842812857,\n",
       " 'astigmatism_obl': 2.0008559991003822e-17,\n",
       " 'astigmatism_vert': 0.030645660422778335,\n",
       " 'coma_vert': -4.163336342344337e-17,\n",
       " 'coma_hor': -0.1449293408425418}"
      ]
     },
     "execution_count": 483,
     "metadata": {},
     "output_type": "execute_result"
    }
   ],
   "source": [
    "res[0]['z_real'][0]"
   ]
  },
  {
   "cell_type": "code",
   "execution_count": 484,
   "id": "american-republic",
   "metadata": {},
   "outputs": [
    {
     "data": {
      "text/plain": [
       "{'tilt_hor': -0.4009250217333581,\n",
       " 'tilt_vert': 8.893968571230085e-17,\n",
       " 'defocus': -0.008887764962522474,\n",
       " 'astigmatism_obl': 2.182695240714373e-17,\n",
       " 'astigmatism_vert': 0.030645660422778328,\n",
       " 'coma_vert': -4.787154591280056e-17,\n",
       " 'coma_hor': -0.1449293408425418}"
      ]
     },
     "execution_count": 484,
     "metadata": {},
     "output_type": "execute_result"
    }
   ],
   "source": [
    "res[0]['z_superpos'][0]"
   ]
  },
  {
   "cell_type": "code",
   "execution_count": 469,
   "id": "least-danish",
   "metadata": {},
   "outputs": [],
   "source": [
    "zs_isol0 = res[0]['zs_isol'][0][0]\n",
    "zs_isol1 = res[0]['zs_isol'][1][0]"
   ]
  },
  {
   "cell_type": "code",
   "execution_count": 470,
   "id": "integrated-complaint",
   "metadata": {},
   "outputs": [
    {
     "data": {
      "text/plain": [
       "{'wavelength': 0.4,\n",
       " 'fieldX': 0.0,\n",
       " 'fieldY': 0.0,\n",
       " 'tilt_hor': -0.4009250217333581,\n",
       " 'tilt_vert': 9.71445146547012e-17,\n",
       " 'defocus': -0.008312957842812857,\n",
       " 'astigmatism_obl': 2.0008559991003822e-17,\n",
       " 'astigmatism_vert': 0.030645660422778335,\n",
       " 'coma_vert': -4.163336342344337e-17,\n",
       " 'coma_hor': -0.1449293408425418}"
      ]
     },
     "execution_count": 470,
     "metadata": {},
     "output_type": "execute_result"
    }
   ],
   "source": [
    "zs_isol0"
   ]
  },
  {
   "cell_type": "code",
   "execution_count": 471,
   "id": "political-screen",
   "metadata": {},
   "outputs": [
    {
     "data": {
      "text/plain": [
       "{'wavelength': 0.4,\n",
       " 'fieldX': 0.0,\n",
       " 'fieldY': 0.0,\n",
       " 'tilt_hor': 1.5031015267238844e-18,\n",
       " 'tilt_vert': -8.204828942400348e-18,\n",
       " 'defocus': -0.0005748071197096173,\n",
       " 'astigmatism_obl': 1.818392416139908e-18,\n",
       " 'astigmatism_vert': -6.798923370122721e-18,\n",
       " 'coma_vert': -6.238182489357192e-18,\n",
       " 'coma_hor': -2.1111256709592762e-18}"
      ]
     },
     "execution_count": 471,
     "metadata": {},
     "output_type": "execute_result"
    }
   ],
   "source": [
    "zs_isol1"
   ]
  },
  {
   "cell_type": "code",
   "execution_count": 474,
   "id": "super-tension",
   "metadata": {},
   "outputs": [
    {
     "data": {
      "text/plain": [
       "{'tilt_hor': -0.4009250217333581,\n",
       " 'tilt_vert': 8.893968571230085e-17,\n",
       " 'defocus': -0.008887764962522474,\n",
       " 'astigmatism_obl': 2.182695240714373e-17,\n",
       " 'astigmatism_vert': 0.030645660422778328,\n",
       " 'coma_vert': -4.787154591280056e-17,\n",
       " 'coma_hor': -0.1449293408425418}"
      ]
     },
     "execution_count": 474,
     "metadata": {},
     "output_type": "execute_result"
    }
   ],
   "source": [
    "res[0]['z_superpos'][0]"
   ]
  }
 ],
 "metadata": {
  "kernelspec": {
   "display_name": "Python 3",
   "language": "python",
   "name": "python3"
  },
  "language_info": {
   "codemirror_mode": {
    "name": "ipython",
    "version": 3
   },
   "file_extension": ".py",
   "mimetype": "text/x-python",
   "name": "python",
   "nbconvert_exporter": "python",
   "pygments_lexer": "ipython3",
   "version": "3.9.2"
  }
 },
 "nbformat": 4,
 "nbformat_minor": 5
}
