{
 "cells": [
  {
   "cell_type": "code",
   "execution_count": 1,
   "metadata": {},
   "outputs": [],
   "source": [
    "import requests"
   ]
  },
  {
   "cell_type": "code",
   "execution_count": null,
   "metadata": {},
   "outputs": [],
   "source": []
  },
  {
   "cell_type": "code",
   "execution_count": 50,
   "metadata": {},
   "outputs": [],
   "source": [
    "def sovm(den, mes, god, denm, mesm, godm):\n",
    "    usersData = {\n",
    "    'den': den,  # Girl day\n",
    "    'mes': mes,  # Girl month\n",
    "    'god': god,  # Girl year\n",
    "    'denm': denm,  # Boy day\n",
    "    'mesm': mesm,  # Boy month\n",
    "    'godm': godm,  # Boy god\n",
    "    'act': 1\n",
    "    }\n",
    "    r = requests.post('https://realastrology.ru/sovmest_podr.htm', usersData)\n",
    "    r_parsed = r.text.split('<br />')\n",
    "    char = 0\n",
    "    chem = 0\n",
    "    inter = 0\n",
    "    stable = 0\n",
    "    phil = 0\n",
    "    living = 0\n",
    "    m_char = 1.69\n",
    "    m_chem = 4.28\n",
    "    m_inter = 2.03\n",
    "    m_stable = 2.89\n",
    "    m_phil = 1.71\n",
    "    m_living = 2.2\n",
    "    for i in r_parsed:\n",
    "        if 'Совместимость характеров:' in i:\n",
    "            char = float(i.split()[2])\n",
    "        if 'Любовная и сексуальная химия:' in i:\n",
    "            chem = float(i.split()[4])\n",
    "        if 'Гармония повседневного общения:' in i:\n",
    "            inter = float(i.split()[3]) \n",
    "        if 'Прочность и стабильность пары:' in i:\n",
    "            stable = float(i.split()[4])\n",
    "        if 'Совместимость жизненных философий:' in i:\n",
    "            phil = float(i.split()[3])   \n",
    "        if 'Гармония совместного проживания:' in i:\n",
    "            living = float(i.split()[3])\n",
    "    #result = char + chem + inter + stable + phil + living\n",
    "    result = (char - m_char)/m_char + (chem-m_chem)/m_chem + (inter-m_inter)/m_inter + (stable - m_stable)/m_stable + (phil-m_phil)/m_phil + (living-m_living)/m_living\n",
    "    return result"
   ]
  },
  {
   "cell_type": "code",
   "execution_count": 32,
   "metadata": {},
   "outputs": [
    {
     "data": {
      "text/plain": [
       "4.807524476966159"
      ]
     },
     "execution_count": 32,
     "metadata": {},
     "output_type": "execute_result"
    }
   ],
   "source": [
    "sovm(23, 5, 2000, 29, 5, 2000)"
   ]
  },
  {
   "cell_type": "code",
   "execution_count": 85,
   "metadata": {},
   "outputs": [],
   "source": [
    "file = open('Sovmestimost.txt', 'r', encoding='utf-8')\n",
    "lines = file.readlines()[1:]"
   ]
  },
  {
   "cell_type": "code",
   "execution_count": 86,
   "metadata": {},
   "outputs": [],
   "source": [
    "men = []\n",
    "women = []\n",
    "for i in lines:\n",
    "    tmp = i.rstrip().split()\n",
    "    if tmp[1] == 'М':\n",
    "        men.append([tmp[0], tmp[2], tmp[3], tmp[4]])\n",
    "    elif tmp[1] == 'Ж':\n",
    "        women.append([tmp[0], tmp[2], tmp[3], tmp[4]])"
   ]
  },
  {
   "cell_type": "code",
   "execution_count": 87,
   "metadata": {},
   "outputs": [],
   "source": [
    "table = [['Имя']]\n",
    "for i in men:\n",
    "    table[0].append(i[0])\n",
    "counter = 1\n",
    "for i in women:\n",
    "    table.append([i[0]])\n",
    "    for i2 in men:\n",
    "        table[counter].append(round(sovm(i[1], i[2], i[3], i2[1], i2[2], i2[3]), 2))\n",
    "    counter += 1    "
   ]
  },
  {
   "cell_type": "code",
   "execution_count": 88,
   "metadata": {},
   "outputs": [],
   "source": [
    "def wrt(filename, table):\n",
    "    file = open(filename, 'w', encoding='utf-8')\n",
    "    for i in table:\n",
    "        line = ''\n",
    "        for i2 in i:\n",
    "            line += str(i2) + ' '\n",
    "        line = line.rstrip() + '\\n'\n",
    "        file.write(line)"
   ]
  },
  {
   "cell_type": "code",
   "execution_count": 89,
   "metadata": {},
   "outputs": [
    {
     "data": {
      "text/plain": [
       "[['Имя',\n",
       "  'Малума',\n",
       "  'Пипер',\n",
       "  'Двисио',\n",
       "  'Мората',\n",
       "  'Валерио',\n",
       "  'Гусман',\n",
       "  'Абушка',\n",
       "  'Андер'],\n",
       " ['Маша', -1.36, 1.12, -2.57, -3.12, 0.82, 3.82, 4.81, 0.07]]"
      ]
     },
     "execution_count": 89,
     "metadata": {},
     "output_type": "execute_result"
    }
   ],
   "source": [
    "table"
   ]
  },
  {
   "cell_type": "code",
   "execution_count": 65,
   "metadata": {},
   "outputs": [],
   "source": [
    "wrt('result4.txt', table)"
   ]
  },
  {
   "cell_type": "code",
   "execution_count": null,
   "metadata": {},
   "outputs": [],
   "source": []
  }
 ],
 "metadata": {
  "kernelspec": {
   "display_name": "Python 3",
   "language": "python",
   "name": "python3"
  },
  "language_info": {
   "codemirror_mode": {
    "name": "ipython",
    "version": 3
   },
   "file_extension": ".py",
   "mimetype": "text/x-python",
   "name": "python",
   "nbconvert_exporter": "python",
   "pygments_lexer": "ipython3",
   "version": "3.9.2"
  }
 },
 "nbformat": 4,
 "nbformat_minor": 4
}
