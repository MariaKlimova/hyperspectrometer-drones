{
 "cells": [
  {
   "cell_type": "code",
   "execution_count": 1,
   "id": "civic-digest",
   "metadata": {},
   "outputs": [],
   "source": [
    "import matplotlib.pyplot as plt"
   ]
  },
  {
   "cell_type": "code",
   "execution_count": 2,
   "id": "southeast-poverty",
   "metadata": {},
   "outputs": [],
   "source": [
    "import numpy as np"
   ]
  },
  {
   "cell_type": "code",
   "execution_count": 3,
   "id": "incorporated-maine",
   "metadata": {},
   "outputs": [],
   "source": [
    "class Dot:\n",
    "    def __init__(self, px1, px9, px25, bg):\n",
    "        self.px1 = px1\n",
    "        self.px9 = px9\n",
    "        self.px25 = px25\n",
    "        self.bg = bg\n",
    "        self.px1_norm = px1 - bg\n",
    "        self.px9_norm = px9 - 9*bg\n",
    "        self.px25_norm = px25 - 25*bg\n",
    "        self.count_percentage()\n",
    "    def count_percentage(self):\n",
    "        self.px1_perc = self.px1/self.px25*100\n",
    "        self.px9_perc = self.px9/self.px25*100\n",
    "        self.px1_perc_norm = self.px1_norm/self.px25_norm*100\n",
    "        self.px9_perc_norm = self.px9_norm/self.px25_norm*100\n"
   ]
  },
  {
   "cell_type": "code",
   "execution_count": 4,
   "id": "basic-release",
   "metadata": {},
   "outputs": [],
   "source": [
    "class Dots:\n",
    "    def __init__(self, dots, x_range):\n",
    "        self.dots = [Dot(dot[0], dot[1], dot[2], dot[3]) for dot in dots]\n",
    "        self.x = x_range\n",
    "        self.arr_px1 = [dot.px1_perc for dot in self.dots]\n",
    "        self.arr_px9 = [dot.px9_perc for dot in self.dots]\n",
    "        self.arr_px1n = [dot.px1_perc_norm for dot in self.dots]\n",
    "        self.arr_px9n = [dot.px9_perc_norm for dot in self.dots]\n",
    "        \n",
    "    def buildChart(self):\n",
    "        fig1, ax1 = plt.subplots(1)\n",
    "        \n",
    "        ax1.plot(self.x, self.arr_px1n, color='b')\n",
    "        ax1.plot(self.x, self.arr_px9n, color='m')"
   ]
  },
  {
   "cell_type": "code",
   "execution_count": 5,
   "id": "dominant-draft",
   "metadata": {},
   "outputs": [],
   "source": [
    "leftSide =[\n",
    "    [2845, 3789, 4727, 45],\n",
    "    [2912, 2912+921, 2912+921+884, 42],\n",
    "    [2687, 2687+967, 2687+967+959, 45],\n",
    "    [2536,2536+848,2536+848+948, 44],\n",
    "    [2326,2368+1098,2368+1098+963,44],\n",
    "    [1978,1978+1410,1978+1262+982,42],\n",
    "    [1656,1656+1525,1656+1525+948,42],\n",
    "    [1381, 1381+1624, 1381+1624+919,44],\n",
    "    [1103, 1103+1669, 1103+1669+908,45 ]\n",
    "]\n",
    "leftSide.reverse()\n",
    "#[2057,2057+1262,2057+1262+828,44]    "
   ]
  },
  {
   "cell_type": "code",
   "execution_count": 102,
   "id": "federal-stable",
   "metadata": {},
   "outputs": [
    {
     "data": {
      "text/plain": [
       "[-9, -8, -7, -6, -5, -4, -3, -2, -1]"
      ]
     },
     "execution_count": 102,
     "metadata": {},
     "output_type": "execute_result"
    }
   ],
   "source": [
    "x_left = [i for i in range(-len(leftSide),0)]\n",
    "x_left"
   ]
  },
  {
   "cell_type": "code",
   "execution_count": 103,
   "id": "wanted-catering",
   "metadata": {},
   "outputs": [
    {
     "data": {
      "text/plain": [
       "[[1103, 2772, 3680, 45],\n",
       " [1381, 3005, 3924, 44],\n",
       " [1656, 3181, 4129, 42],\n",
       " [1978, 3388, 4222, 42],\n",
       " [2326, 3466, 4429, 44],\n",
       " [2536, 3384, 4332, 44],\n",
       " [2687, 3654, 4613, 45],\n",
       " [2912, 3833, 4717, 42],\n",
       " [2845, 3789, 4727, 45]]"
      ]
     },
     "execution_count": 103,
     "metadata": {},
     "output_type": "execute_result"
    }
   ],
   "source": [
    "leftSide"
   ]
  },
  {
   "cell_type": "code",
   "execution_count": 144,
   "id": "reasonable-challenge",
   "metadata": {},
   "outputs": [],
   "source": [
    "leftSideCh = Dots(leftSide, x_left)"
   ]
  },
  {
   "cell_type": "code",
   "execution_count": 112,
   "id": "naval-dakota",
   "metadata": {},
   "outputs": [
    {
     "data": {
      "text/plain": [
       "[41.40900195694716,\n",
       " 47.344192634560905,\n",
       " 52.41961675868788,\n",
       " 61.03404791929382,\n",
       " 68.5491138480024,\n",
       " 77.10396039603961,\n",
       " 75.7454128440367,\n",
       " 78.26561221707118,\n",
       " 77.73459189339256]"
      ]
     },
     "execution_count": 112,
     "metadata": {},
     "output_type": "execute_result"
    }
   ],
   "source": [
    "leftSideCh.arr_px1n"
   ]
  },
  {
   "cell_type": "code",
   "execution_count": 145,
   "id": "tribal-reliance",
   "metadata": {},
   "outputs": [
    {
     "data": {
      "image/png": "[encoded data removed]",
      "text/plain": [
       "<Figure size 432x288 with 1 Axes>"
      ]
     },
     "metadata": {
      "needs_background": "light"
     },
     "output_type": "display_data"
    }
   ],
   "source": [
    "leftSideCh.buildChart()"
   ]
  },
  {
   "cell_type": "code",
   "execution_count": 106,
   "id": "rental-sampling",
   "metadata": {},
   "outputs": [],
   "source": [
    "pix_1 = [61,64,65,66,66,66,62,62,57,52]\n",
    "pix_9 = [81,82,82,81,81,81,81,81,78,76]\n",
    "pix_1n = [77,80,82,82,85,82,79,79,76,70]\n",
    "pix_9n = [93,94,95,93,95,94,93,93,93,92]\n"
   ]
  },
  {
   "cell_type": "code",
   "execution_count": 109,
   "id": "internal-cheese",
   "metadata": {},
   "outputs": [],
   "source": [
    "\n",
    "t1 = leftSideCh.arr_px1+pix_1\n",
    "t9 = leftSideCh.arr_px9+pix_9\n",
    "t1n = leftSideCh.arr_px1n+pix_1n\n",
    "t9n = leftSideCh.arr_px9n+pix_9n\n",
    "x = [i for i in range(-len(leftSide), 10)]"
   ]
  },
  {
   "cell_type": "code",
   "execution_count": 143,
   "id": "naughty-partner",
   "metadata": {},
   "outputs": [
    {
     "data": {
      "text/plain": [
       "[92.64187866927594,\n",
       " 92.38668555240793,\n",
       " 91.03605066580059,\n",
       " 94.89281210592686,\n",
       " 92.21988585160709,\n",
       " 92.45049504950495,\n",
       " 93.14793577981652,\n",
       " 94.21870739023726,\n",
       " 93.94780677401444,\n",
       " 93,\n",
       " 94,\n",
       " 95,\n",
       " 93,\n",
       " 95,\n",
       " 94,\n",
       " 93,\n",
       " 93,\n",
       " 93,\n",
       " 92]"
      ]
     },
     "execution_count": 143,
     "metadata": {},
     "output_type": "execute_result"
    }
   ],
   "source": [
    "t9n"
   ]
  },
  {
   "cell_type": "code",
   "execution_count": 146,
   "id": "developmental-tyler",
   "metadata": {},
   "outputs": [
    {
     "data": {
      "text/plain": [
       "[<matplotlib.lines.Line2D at 0x119f7bdf0>]"
      ]
     },
     "execution_count": 146,
     "metadata": {},
     "output_type": "execute_result"
    },
    {
     "data": {
      "image/png": "[encoded data removed]",
      "text/plain": [
       "<Figure size 432x288 with 1 Axes>"
      ]
     },
     "metadata": {
      "needs_background": "light"
     },
     "output_type": "display_data"
    }
   ],
   "source": [
    "fig1, ax1 = plt.subplots(1)\n",
    "# ax1.plot(x, t1, color='r') \n",
    "# ax1.plot(x, t9, color='g')\n",
    "ax1.plot(x, t1n, color='b')\n",
    "ax1.plot(x, t9n, color='m')"
   ]
  },
  {
   "cell_type": "code",
   "execution_count": 113,
   "id": "committed-september",
   "metadata": {},
   "outputs": [],
   "source": [
    "vert = [\n",
    "    [3172,762+3172,901+762+3172,44],#4 degrees up\n",
    "    [3087,3087+849,3087+849+935, 44]#2 degrees up\n",
    "]"
   ]
  },
  {
   "cell_type": "code",
   "execution_count": 114,
   "id": "reduced-jacob",
   "metadata": {},
   "outputs": [],
   "source": [
    "upDots = Dots(vert, [4,2])"
   ]
  },
  {
   "cell_type": "code",
   "execution_count": 116,
   "id": "consolidated-assurance",
   "metadata": {},
   "outputs": [
    {
     "data": {
      "text/plain": [
       "[83.7483266398929, 80.69477592150623]"
      ]
     },
     "execution_count": 116,
     "metadata": {},
     "output_type": "execute_result"
    }
   ],
   "source": [
    "upDots.arr_px1n"
   ]
  },
  {
   "cell_type": "code",
   "execution_count": 150,
   "id": "careful-award",
   "metadata": {},
   "outputs": [],
   "source": [
    "fourToFiveLeft = [\n",
    "    [2497,2497+985, 2497+985+935,45],\n",
    "    [2586,2586+999, 2586+999+951,44],\n",
    "    [2502,2502+1027,2502+1027+925,44],\n",
    "    [2432,2432+1061,2432+1061+939, 44],\n",
    "    [2408, 2408+1047, 2408+1047+940,44],\n",
    "    [2388,2388+1108,2388+1108+944,44],\n",
    "]\n",
    "x_45 = [-4.0,-4.2,-4.4,-4.6,-4.8,-5]\n",
    "#784,776,767,758,748,736\n",
    "x_45.reverse()\n",
    "fourToFiveLeft.reverse()"
   ]
  },
  {
   "cell_type": "code",
   "execution_count": 160,
   "id": "polished-smell",
   "metadata": {},
   "outputs": [
    {
     "data": {
      "text/plain": [
       "1.0503049618957292"
      ]
     },
     "execution_count": 160,
     "metadata": {},
     "output_type": "execute_result"
    }
   ],
   "source": [
    "np.arctan((1028-978)*5.5/1000/15)*180/np.pi"
   ]
  },
  {
   "cell_type": "code",
   "execution_count": 151,
   "id": "hispanic-swedish",
   "metadata": {},
   "outputs": [],
   "source": [
    "left45 = Dots(fourToFiveLeft, x_45)"
   ]
  },
  {
   "cell_type": "code",
   "execution_count": 152,
   "id": "requested-broad",
   "metadata": {},
   "outputs": [
    {
     "data": {
      "image/png": "[encoded data removed]",
      "text/plain": [
       "<Figure size 432x288 with 1 Axes>"
      ]
     },
     "metadata": {
      "needs_background": "light"
     },
     "output_type": "display_data"
    }
   ],
   "source": [
    "left45.buildChart()"
   ]
  },
  {
   "cell_type": "code",
   "execution_count": 154,
   "id": "running-webcam",
   "metadata": {},
   "outputs": [
    {
     "data": {
      "text/plain": [
       "[92.81437125748504,\n",
       " 92.83763277693475,\n",
       " 92.94717887154862,\n",
       " 93.4108527131783,\n",
       " 92.81140861466822,\n",
       " 93.46901579586877]"
      ]
     },
     "execution_count": 154,
     "metadata": {},
     "output_type": "execute_result"
    }
   ],
   "source": [
    "left45.arr_px9n"
   ]
  },
  {
   "cell_type": "code",
   "execution_count": 268,
   "id": "subtle-invitation",
   "metadata": {},
   "outputs": [],
   "source": [
    "tit_hor = [\n",
    "    {\n",
    "        'x':979,\n",
    "        'y':578,\n",
    "        'px1': 3037,\n",
    "        'px2': 713,\n",
    "        'px3': 934,\n",
    "        'bg':44,\n",
    "        'sh': 516.7\n",
    "    },\n",
    "    {\n",
    "        'x':1029,\n",
    "        'y':578,\n",
    "        'px1': 2952,\n",
    "        'px2': 718,\n",
    "        'px3': 941,\n",
    "        'bg':44,\n",
    "        'sh': 516.7\n",
    "    },\n",
    "    {\n",
    "        'x':1080,\n",
    "        'y':578,\n",
    "        'px1': 3182,\n",
    "        'px2': 733,\n",
    "        'px3': 921,\n",
    "        'bg':44,\n",
    "        'sh': 516.7\n",
    "    },\n",
    "    {\n",
    "        'x':1131,\n",
    "        'y':578,\n",
    "        'px1': 2965,\n",
    "        'px2': 721,\n",
    "        'px3': 941,\n",
    "        'bg':44,\n",
    "        'sh': 516.7\n",
    "    },\n",
    "    {\n",
    "        'x':1182,\n",
    "        'y':577,\n",
    "        'px1': 2841,\n",
    "        'px2': 711,\n",
    "        'px3': 929,\n",
    "        'bg':44,\n",
    "        'sh': 516.7\n",
    "    },\n",
    "    {\n",
    "        'x':1231,\n",
    "        'y':577,\n",
    "        'px1': 2788,\n",
    "        'px2': 764,\n",
    "        'px3': 925,\n",
    "        'bg':44,\n",
    "        'sh': 516.7\n",
    "    },\n",
    "    {\n",
    "        'x':1281,\n",
    "        'y':577,\n",
    "        'px1': 2941,\n",
    "        'px2': 767,\n",
    "        'px3': 925,\n",
    "        'bg':44,\n",
    "        'sh': 516.7\n",
    "    },\n",
    "    {\n",
    "        'x':1330,\n",
    "        'y':577,\n",
    "        'px1': 2742,\n",
    "        'px2': 801,\n",
    "        'px3': 923,\n",
    "        'bg':44,\n",
    "        'sh': 516.7\n",
    "    },\n",
    "    {\n",
    "        'x':1380,\n",
    "        'y':578,\n",
    "        'px1': 2002,\n",
    "        'px2': 735,\n",
    "        'px3': 919,\n",
    "        'bg':44,\n",
    "        'sh': 516.7\n",
    "    },\n",
    "    {\n",
    "        'x':1432,\n",
    "        'y':577,\n",
    "        'px1': 1534,\n",
    "        'px2': 759,\n",
    "        'px3': 862,\n",
    "        'bg':44,\n",
    "        'sh': 516.7\n",
    "    },\n",
    "    {\n",
    "        'x': 929,\n",
    "        'y': 577,\n",
    "        'px1': 3118,\n",
    "        'px2': 778,\n",
    "        'px3': 944,\n",
    "        'bg':44,\n",
    "        'sh': 516.7\n",
    "    },\n",
    "    {\n",
    "        'x': 880,\n",
    "        'y': 577,\n",
    "        'px1': 3225,\n",
    "        'px2': 725,\n",
    "        'px3': 951,\n",
    "        'bg':44,\n",
    "        'sh': 516.7\n",
    "    },\n",
    "    {\n",
    "        'x': 832,\n",
    "        'y': 577,\n",
    "        'px1': 3207,\n",
    "        'px2': 692,\n",
    "        'px3': 931,\n",
    "        'bg':44,\n",
    "        'sh': 516.7\n",
    "    },\n",
    "    {\n",
    "        'x': 783,\n",
    "        'y': 577,\n",
    "        'px1': 3057,\n",
    "        'px2': 750,\n",
    "        'px3': 913,\n",
    "        'bg':44,\n",
    "        'sh': 516.7\n",
    "    },\n",
    "    {\n",
    "        'x': 732,\n",
    "        'y': 578,\n",
    "        'px1': 3080,\n",
    "        'px2': 791,\n",
    "        'px3': 900,\n",
    "        'bg':44,\n",
    "        'sh': 516.7\n",
    "    },\n",
    "    {\n",
    "        'x': 681,\n",
    "        'y': 580,\n",
    "        'px1': 3213,\n",
    "        'px2': 734,\n",
    "        'px3': 900,\n",
    "        'bg':44,\n",
    "        'sh': 516.7\n",
    "    },\n",
    "    {\n",
    "        'x': 632,\n",
    "        'y': 580,\n",
    "        'px1': 2887,\n",
    "        'px2': 818,\n",
    "        'px3': 912,\n",
    "        'bg':44,\n",
    "        'sh': 516.7\n",
    "    },\n",
    "    {\n",
    "        'x': 582,\n",
    "        'y': 579,\n",
    "        'px1': 3092,\n",
    "        'px2': 797,\n",
    "        'px3': 908,\n",
    "        'bg':44,\n",
    "        'sh': 516.7\n",
    "    },\n",
    "    {\n",
    "        'x': 532,\n",
    "        'y': 579,\n",
    "        'px1': 2552,\n",
    "        'px2': 934,\n",
    "        'px3': 945,\n",
    "        'bg':44,\n",
    "        'sh': 516.7\n",
    "    },\n",
    "    {\n",
    "        'x': 484,\n",
    "        'y': 579,\n",
    "        'px1': 2540,\n",
    "        'px2': 895,\n",
    "        'px3': 945,\n",
    "        'bg':44,\n",
    "        'sh': 516.7\n",
    "    },\n",
    "    \n",
    "]"
   ]
  },
  {
   "cell_type": "code",
   "execution_count": 10,
   "id": "pregnant-sentence",
   "metadata": {},
   "outputs": [],
   "source": [
    "def preProcess(data):\n",
    "    res = []\n",
    "    angles = []\n",
    "    data.sort(key=lambda item: item['x'])\n",
    "    for item in data:\n",
    "        res.append([item['px1'], item['px1']+item['px2'], item['px1']+item['px2']+item['px3'], item['bg']])\n",
    "        angles.append(np.arctan((item['x']-978)*5.5/1000/15)*180/np.pi)\n",
    "    \n",
    "    return res,angles"
   ]
  },
  {
   "cell_type": "code",
   "execution_count": 269,
   "id": "hungry-workplace",
   "metadata": {
    "scrolled": true
   },
   "outputs": [
    {
     "data": {
      "image/png": "[encoded data removed]",
      "text/plain": [
       "<Figure size 432x288 with 1 Axes>"
      ]
     },
     "metadata": {
      "needs_background": "light"
     },
     "output_type": "display_data"
    }
   ],
   "source": [
    "titan_ar = preProcess(tit_hor)\n",
    "titan = Dots(titan_ar[0], titan_ar[1])\n",
    "titan.buildChart()"
   ]
  },
  {
   "cell_type": "code",
   "execution_count": 285,
   "id": "nutritional-corps",
   "metadata": {},
   "outputs": [],
   "source": [
    "al1 = [\n",
    "    {\n",
    "        'x': 982,\n",
    "        'y': 591,\n",
    "        'px1': 3829,\n",
    "        'px2': 889,\n",
    "        'px3': 918,\n",
    "        'bg':44,\n",
    "        'sh': 516.7\n",
    "    },\n",
    "    {\n",
    "        'x': 1033,\n",
    "        'y': 591,\n",
    "        'px1': 3825,\n",
    "        'px2': 906,\n",
    "        'px3': 912,\n",
    "        'bg':44,\n",
    "        'sh': 516.7\n",
    "    },\n",
    "    {\n",
    "        'x': 1081,\n",
    "        'y': 591,\n",
    "        'px1': 3524,\n",
    "        'px2': 925,\n",
    "        'px3': 919,\n",
    "        'bg':44,\n",
    "        'sh': 516.7\n",
    "    },\n",
    "    {\n",
    "        'x': 1131,\n",
    "        'y': 591,\n",
    "        'px1': 3965,\n",
    "        'px2': 823,\n",
    "        'px3': 923,\n",
    "        'bg':44,\n",
    "        'sh': 516.7\n",
    "    },\n",
    "    {\n",
    "        'x': 1182,\n",
    "        'y': 591,\n",
    "        'px1': 3488,\n",
    "        'px2': 896,\n",
    "        'px3': 900,\n",
    "        'bg':44,\n",
    "        'sh': 516.7\n",
    "    },\n",
    "    {\n",
    "        'x': 1233,\n",
    "        'y': 591,\n",
    "        'px1': 3710,\n",
    "        'px2': 901,\n",
    "        'px3': 898,\n",
    "        'bg':44,\n",
    "        'sh': 516.7\n",
    "    },\n",
    "    {\n",
    "        'x': 1281,\n",
    "        'y': 591,\n",
    "        'px1': 3353,\n",
    "        'px2': 967,\n",
    "        'px3': 910,\n",
    "        'bg':44,\n",
    "        'sh': 516.7\n",
    "    },\n",
    "    {\n",
    "        'x': 1332,\n",
    "        'y': 591,\n",
    "        'px1': 3673,\n",
    "        'px2': 928,\n",
    "        'px3': 923,\n",
    "        'bg':44,\n",
    "        'sh': 516.7\n",
    "    },\n",
    "    {\n",
    "        'x': 1382,\n",
    "        'y': 590,\n",
    "        'px1': 2974,\n",
    "        'px2': 990,\n",
    "        'px3': 944,\n",
    "        'bg':44,\n",
    "        'sh': 516.7\n",
    "    },\n",
    "    {\n",
    "        'x': 1432,\n",
    "        'y': 590,\n",
    "        'px1': 2411,\n",
    "        'px2': 1031,\n",
    "        'px3': 875,\n",
    "        'bg':44,\n",
    "        'sh': 516.7\n",
    "    },\n",
    "    {\n",
    "        'x': 933,\n",
    "        'y': 592,\n",
    "        'px1': 3643,\n",
    "        'px2': 822,\n",
    "        'px3': 887,\n",
    "        'bg':44,\n",
    "        'sh': 516.7\n",
    "    },\n",
    "    {\n",
    "        'x': 883,\n",
    "        'y': 592,\n",
    "        'px1': 3687,\n",
    "        'px2': 799,\n",
    "        'px3': 881,\n",
    "        'bg':44,\n",
    "        'sh': 516.7\n",
    "    },\n",
    "    {\n",
    "        'x': 833,\n",
    "        'y': 592,\n",
    "        'px1': 3758,\n",
    "        'px2': 738,\n",
    "        'px3': 874,\n",
    "        'bg':44,\n",
    "        'sh': 516.7\n",
    "    },\n",
    "    {\n",
    "        'x': 783,\n",
    "        'y': 592,\n",
    "        'px1': 3734,\n",
    "        'px2': 792,\n",
    "        'px3': 903,\n",
    "        'bg':44,\n",
    "        'sh': 516.7\n",
    "    },\n",
    "    {\n",
    "        'x': 733,\n",
    "        'y': 591,\n",
    "        'px1': 3447,\n",
    "        'px2': 805,\n",
    "        'px3': 888,\n",
    "        'bg':44,\n",
    "        'sh': 516.7\n",
    "    },\n",
    "    {\n",
    "        'x': 682,\n",
    "        'y': 593,\n",
    "        'px1': 3256,\n",
    "        'px2': 879,\n",
    "        'px3': 900,\n",
    "        'bg':44,\n",
    "        'sh': 516.7\n",
    "    },\n",
    "    {\n",
    "        'x': 632,\n",
    "        'y': 592,\n",
    "        'px1': 3720,\n",
    "        'px2': 738,\n",
    "        'px3': 898,\n",
    "        'bg':44,\n",
    "        'sh': 516.7\n",
    "    },\n",
    "    {\n",
    "        'x': 583,\n",
    "        'y': 592,\n",
    "        'px1': 3108,\n",
    "        'px2': 921,\n",
    "        'px3': 903,\n",
    "        'bg':44,\n",
    "        'sh': 516.7\n",
    "    },\n",
    "    {\n",
    "        'x': 532,\n",
    "        'y': 591,\n",
    "        'px1': 3172,\n",
    "        'px2': 1016,\n",
    "        'px3': 909,\n",
    "        'bg':44,\n",
    "        'sh': 516.7\n",
    "    },\n",
    "    \n",
    "]"
   ]
  },
  {
   "cell_type": "code",
   "execution_count": 286,
   "id": "geological-struggle",
   "metadata": {},
   "outputs": [
    {
     "data": {
      "image/png": "[encoded data removed]",
      "text/plain": [
       "<Figure size 432x288 with 1 Axes>"
      ]
     },
     "metadata": {
      "needs_background": "light"
     },
     "output_type": "display_data"
    }
   ],
   "source": [
    "al1_ar = preProcess(al1)\n",
    "alum1 = Dots(al1_ar[0], al1_ar[1])\n",
    "alum1.buildChart()"
   ]
  },
  {
   "cell_type": "code",
   "execution_count": 297,
   "id": "hungarian-uzbekistan",
   "metadata": {},
   "outputs": [
    {
     "name": "stdout",
     "output_type": "stream",
     "text": [
      "[94.87115336502376, 94.80688935281837, 95.44172932330827, 95.01905972045743, 95.44554455445544, 95.4030954030954, 96.01873536299766, 95.8518865713616, 95.69614299153339, 95.28218694885362, 95.42152762491746, 94.96251171508904, 95.25048796356539, 95.31548757170172, 95.59990927647992, 95.01210653753026, 95.04972875226039, 93.69747899159664, 94.68448865402549]\n"
     ]
    }
   ],
   "source": [
    "print(alum3.arr_px9n )"
   ]
  },
  {
   "cell_type": "code",
   "execution_count": 291,
   "id": "amino-musical",
   "metadata": {},
   "outputs": [],
   "source": [
    "al3 = [\n",
    "    {\n",
    "        'x': 981,\n",
    "        'y': 593,\n",
    "        'px1': 3917,\n",
    "        'px2': 959,\n",
    "        'px3': 956,\n",
    "        'bg':44,\n",
    "        'sh': 656.8\n",
    "    },\n",
    "    {\n",
    "        'x': 1031,\n",
    "        'y': 593,\n",
    "        'px1': 3403,\n",
    "        'px2': 771,\n",
    "        'px3': 893,\n",
    "        'bg':44,\n",
    "        'sh': 516.7\n",
    "    },\n",
    "    {\n",
    "        'x': 1083,\n",
    "        'y': 593,\n",
    "        'px1': 3728,\n",
    "        'px2': 739,\n",
    "        'px3': 882,\n",
    "        'bg':44,\n",
    "        'sh': 516.7\n",
    "    },\n",
    "    {\n",
    "        'x': 1132,\n",
    "        'y': 594,\n",
    "        'px1': 3664,\n",
    "        'px2': 769,\n",
    "        'px3': 916,\n",
    "        'bg':44,\n",
    "        'sh': 516.7\n",
    "    },\n",
    "    {\n",
    "        'x': 1185,\n",
    "        'y': 594,\n",
    "        'px1': 3465,\n",
    "        'px2': 758,\n",
    "        'px3': 910,\n",
    "        'bg': 44,\n",
    "        'sh': 516.7\n",
    "    },\n",
    "    {\n",
    "        'x': 1233,\n",
    "        'y': 592,\n",
    "        'px1': 3466,\n",
    "        'px2': 718,\n",
    "        'px3': 908,\n",
    "        'bg': 44,\n",
    "        'sh': 516.7\n",
    "    },\n",
    "    {\n",
    "        'x': 1282,\n",
    "        'y': 592,\n",
    "        'px1': 3481,\n",
    "        'px2': 690,\n",
    "        'px3': 900,\n",
    "        'bg': 44,\n",
    "        'sh': 516.7\n",
    "    },\n",
    "    {\n",
    "        'x': 1332,\n",
    "        'y': 592,\n",
    "        'px1': 3346,\n",
    "        'px2': 767,\n",
    "        'px3': 904,\n",
    "        'bg': 44,\n",
    "        'sh': 516.7\n",
    "    },\n",
    "    {\n",
    "        'x': 1432,\n",
    "        'y': 592,\n",
    "        'px1': 2447,\n",
    "        'px2': 932,\n",
    "        'px3': 877,\n",
    "        'bg': 44,\n",
    "        'sh': 516.7\n",
    "    },\n",
    "    {\n",
    "        'x': 932,\n",
    "        'y': 593,\n",
    "        'px1': 3737,\n",
    "        'px2': 781,\n",
    "        'px3': 901,\n",
    "        'bg': 44,\n",
    "        'sh': 516.7\n",
    "    },\n",
    "    {\n",
    "        'x': 882,\n",
    "        'y': 593,\n",
    "        'px1': 3566,\n",
    "        'px2': 788,\n",
    "        'px3': 901,\n",
    "        'bg': 44,\n",
    "        'sh': 516.7\n",
    "    },\n",
    "    {\n",
    "        'x': 834,\n",
    "        'y': 593,\n",
    "        'px1': 3775,\n",
    "        'px2': 767,\n",
    "        'px3': 883,\n",
    "        'bg': 44,\n",
    "        'sh': 516.7\n",
    "    },\n",
    "    {\n",
    "        'x': 783,\n",
    "        'y': 593,\n",
    "        'px1': 3621,\n",
    "        'px2': 810,\n",
    "        'px3': 905,\n",
    "        'bg': 44,\n",
    "        'sh': 516.7\n",
    "    },\n",
    "    {\n",
    "        'x': 733,\n",
    "        'y': 593,\n",
    "        'px1': 3652,\n",
    "        'px2': 776,\n",
    "        'px3': 894,\n",
    "        'bg': 44,\n",
    "        'sh': 516.7\n",
    "    },\n",
    "    {\n",
    "        'x': 682,\n",
    "        'y': 594,\n",
    "        'px1': 3809,\n",
    "        'px2': 804,\n",
    "        'px3': 897,\n",
    "        'bg': 44,\n",
    "        'sh': 516.7\n",
    "    },\n",
    "    {\n",
    "        'x': 634,\n",
    "        'y': 594,\n",
    "        'px1': 3897,\n",
    "        'px2': 750,\n",
    "        'px3': 913,\n",
    "        'bg': 44,\n",
    "        'sh': 516.7\n",
    "    },\n",
    "    {\n",
    "        'x': 585,\n",
    "        'y': 592,\n",
    "        'px1': 3621,\n",
    "        'px2': 773,\n",
    "        'px3': 913,\n",
    "        'bg': 44,\n",
    "        'sh': 516.7\n",
    "    },\n",
    "    {\n",
    "        'x': 550,\n",
    "        'y': 594,\n",
    "        'px1': 2647,\n",
    "        'px2': 1041,\n",
    "        'px3': 910,\n",
    "        'bg': 44,\n",
    "        'sh': 516.7\n",
    "    },\n",
    "    \n",
    "]"
   ]
  },
  {
   "cell_type": "code",
   "execution_count": 292,
   "id": "living-functionality",
   "metadata": {
    "scrolled": true
   },
   "outputs": [
    {
     "data": {
      "image/png": "[encoded data removed]",
      "text/plain": [
       "<Figure size 432x288 with 1 Axes>"
      ]
     },
     "metadata": {
      "needs_background": "light"
     },
     "output_type": "display_data"
    }
   ],
   "source": [
    "al3_ar = preProcess(al3)\n",
    "alum3 = Dots(al3_ar[0], al3_ar[1])\n",
    "alum3.buildChart()"
   ]
  },
  {
   "cell_type": "code",
   "execution_count": 35,
   "id": "featured-playback",
   "metadata": {},
   "outputs": [],
   "source": [
    "alnew = [\n",
    "    {\n",
    "        'x': 795,\n",
    "        'y': 494,\n",
    "        'px1': 2331,\n",
    "        'px2': 956,\n",
    "        'px3': 627,\n",
    "        'bg':39,\n",
    "        'sh': 73481\n",
    "    },\n",
    "    {\n",
    "        'x': 795,\n",
    "        'y': 494,\n",
    "        'px1':3417,\n",
    "        'px2': 595,\n",
    "        'px3': 800,\n",
    "        'bg':41,\n",
    "        'sh': 0\n",
    "    },\n",
    "    {\n",
    "        'x': 795,\n",
    "        'y': 494,\n",
    "        'px1': 3547,\n",
    "        'px2': 942,\n",
    "        'px3': 848,\n",
    "        'bg': 44,\n",
    "        'sh': 73481\n",
    "    },\n",
    "    {\n",
    "        'x': 795,\n",
    "        'y': 494,\n",
    "        'px1': 2451,\n",
    "        'px2': 662,\n",
    "        'px3': 793,\n",
    "        'bg': 44,\n",
    "        'sh': 73481\n",
    "    },\n",
    "     {\n",
    "        'x': 795,\n",
    "        'y': 494,\n",
    "        'px1': 2620,\n",
    "        'px2': 742,\n",
    "        'px3': 967,\n",
    "        'bg': 51,\n",
    "        'sh': 73481\n",
    "     }\n",
    "]"
   ]
  },
  {
   "cell_type": "code",
   "execution_count": 36,
   "id": "mounted-valuable",
   "metadata": {},
   "outputs": [],
   "source": [
    "al_col = preProcess(alnew)\n",
    "als_col = Dots(al_col[0], al_col[1])"
   ]
  },
  {
   "cell_type": "code",
   "execution_count": 38,
   "id": "editorial-lodging",
   "metadata": {},
   "outputs": [
    {
     "name": "stdout",
     "output_type": "stream",
     "text": [
      "[77.98570942497449, 89.14708212305254, 82.67642199669577, 85.78047042052745, 84.11918795022922]\n"
     ]
    }
   ],
   "source": [
    "print(als_col.arr_px1n)"
   ]
  }
 ],
 "metadata": {
  "kernelspec": {
   "display_name": "Python 3",
   "language": "python",
   "name": "python3"
  },
  "language_info": {
   "codemirror_mode": {
    "name": "ipython",
    "version": 3
   },
   "file_extension": ".py",
   "mimetype": "text/x-python",
   "name": "python",
   "nbconvert_exporter": "python",
   "pygments_lexer": "ipython3",
   "version": "3.9.2"
  }
 },
 "nbformat": 4,
 "nbformat_minor": 5
}
